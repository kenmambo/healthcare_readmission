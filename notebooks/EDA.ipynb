{
 "cells": [
  {
   "cell_type": "markdown",
   "metadata": {
    "cellUniqueIdByVincent": "c1e02"
   },
   "source": [
    "# Hospital Readmission EDA"
   ]
  },
  {
   "cell_type": "code",
   "execution_count": 1,
   "metadata": {
    "cellUniqueIdByVincent": "ac547"
   },
   "outputs": [
    {
     "ename": "ModuleNotFoundError",
     "evalue": "No module named 'src'",
     "output_type": "error",
     "traceback": [
      "\u001b[31m---------------------------------------------------------------------------\u001b[39m",
      "\u001b[31mModuleNotFoundError\u001b[39m                       Traceback (most recent call last)",
      "\u001b[36mCell\u001b[39m\u001b[36m \u001b[39m\u001b[32mIn[1]\u001b[39m\u001b[32m, line 5\u001b[39m\n\u001b[32m      3\u001b[39m \u001b[38;5;28;01mimport\u001b[39;00m\u001b[38;5;250m \u001b[39m\u001b[34;01mmatplotlib\u001b[39;00m\u001b[34;01m.\u001b[39;00m\u001b[34;01mpyplot\u001b[39;00m\u001b[38;5;250m \u001b[39m\u001b[38;5;28;01mas\u001b[39;00m\u001b[38;5;250m \u001b[39m\u001b[34;01mplt\u001b[39;00m\n\u001b[32m      4\u001b[39m \u001b[38;5;28;01mimport\u001b[39;00m\u001b[38;5;250m \u001b[39m\u001b[34;01mseaborn\u001b[39;00m\u001b[38;5;250m \u001b[39m\u001b[38;5;28;01mas\u001b[39;00m\u001b[38;5;250m \u001b[39m\u001b[34;01msns\u001b[39;00m\n\u001b[32m----> \u001b[39m\u001b[32m5\u001b[39m \u001b[38;5;28;01mfrom\u001b[39;00m\u001b[38;5;250m \u001b[39m\u001b[34;01msrc\u001b[39;00m\u001b[34;01m.\u001b[39;00m\u001b[34;01mdata_preprocessing\u001b[39;00m\u001b[38;5;250m \u001b[39m\u001b[38;5;28;01mimport\u001b[39;00m load_data, clean_data\n\u001b[32m      7\u001b[39m \u001b[38;5;66;03m# Load data\u001b[39;00m\n\u001b[32m      8\u001b[39m df = load_data(\u001b[33m'\u001b[39m\u001b[33m../data/diabetic_data.csv\u001b[39m\u001b[33m'\u001b[39m)\n",
      "\u001b[31mModuleNotFoundError\u001b[39m: No module named 'src'"
     ]
    }
   ],
   "source": [
    "import pandas as pd\n",
    "import numpy as np\n",
    "import matplotlib.pyplot as plt\n",
    "import seaborn as sns\n",
    "from src.data_preprocessing import load_data, clean_data\n",
    "\n",
    "# Load data\n",
    "df = load_data('../data/diabetic_data.csv')\n",
    "df_clean, preprocessor = clean_data(df)\n",
    "\n",
    "# Display basic info\n",
    "print(f\"Dataset shape: {df_clean.shape}\")\n",
    "print(f\"Readmission rate: {df_clean['readmitted'].mean():.2%}\")"
   ]
  },
  {
   "cell_type": "code",
   "execution_count": null,
   "metadata": {
    "cellUniqueIdByVincent": "c960c"
   },
   "outputs": [],
   "source": [
    "# Readmission distribution\n",
    "plt.figure(figsize=(8, 5))\n",
    "sns.countplot(x='readmitted', data=df_clean)\n",
    "plt.title('Readmission Distribution')\n",
    "plt.xlabel('Readmitted within 30 days')\n",
    "plt.ylabel('Count')\n",
    "plt.show()"
   ]
  },
  {
   "cell_type": "code",
   "execution_count": null,
   "metadata": {
    "cellUniqueIdByVincent": "b75be"
   },
   "outputs": [],
   "source": [
    "# Age vs Readmission\n",
    "plt.figure(figsize=(10, 6))\n",
    "sns.boxplot(x='readmitted', y='age', data=df_clean)\n",
    "plt.title('Age vs Readmission')\n",
    "plt.xlabel('Readmitted within 30 days')\n",
    "plt.ylabel('Age')\n",
    "plt.show()"
   ]
  },
  {
   "cell_type": "code",
   "execution_count": null,
   "metadata": {
    "cellUniqueIdByVincent": "a2b03"
   },
   "outputs": [],
   "source": [
    "# Time in hospital vs Readmission\n",
    "plt.figure(figsize=(10, 6))\n",
    "sns.boxplot(x='readmitted', y='time_in_hospital', data=df_clean)\n",
    "plt.title('Time in Hospital vs Readmission')\n",
    "plt.xlabel('Readmitted within 30 days')\n",
    "plt.ylabel('Days in Hospital')\n",
    "plt.show()"
   ]
  },
  {
   "cell_type": "code",
   "execution_count": null,
   "metadata": {
    "cellUniqueIdByVincent": "7d569"
   },
   "outputs": [],
   "source": [
    "# Correlation matrix\n",
    "plt.figure(figsize=(12, 10))\n",
    "numeric_cols = df_clean.select_dtypes(include=['int64', 'float64']).columns\n",
    "corr_matrix = df_clean[numeric_cols].corr()\n",
    "sns.heatmap(corr_matrix, annot=False, cmap='coolwarm')\n",
    "plt.title('Feature Correlation Matrix')\n",
    "plt.show()"
   ]
  }
 ],
 "metadata": {
  "kernelspec": {
   "display_name": "Python 3 (ipykernel)",
   "language": "python",
   "name": "python3"
  },
  "language_info": {
   "codemirror_mode": {
    "name": "ipython",
    "version": 3
   },
   "file_extension": ".py",
   "mimetype": "text/x-python",
   "name": "python",
   "nbconvert_exporter": "python",
   "pygments_lexer": "ipython3",
   "version": "3.13.0"
  },
  "vincent": {
   "sessionId": "a5d8dc3eac45682739e164fd_2025-08-31T08-32-43-117Z"
  }
 },
 "nbformat": 4,
 "nbformat_minor": 4
}
