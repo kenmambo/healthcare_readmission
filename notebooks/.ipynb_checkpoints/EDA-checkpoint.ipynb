{
 "cells": [
  {
   "cell_type": "markdown",
   "metadata": {
    "cellUniqueIdByVincent": "c1e02"
   },
   "source": [
    "# Hospital Readmission EDA"
   ]
  },
  {
   "cell_type": "code",
   "execution_count": null,
   "metadata": {
    "cellUniqueIdByVincent": "ac547"
   },
   "outputs": [],
   "source": [
    "import pandas as pd\n",
    "import numpy as np\n",
    "import matplotlib.pyplot as plt\n",
    "import seaborn as sns\n",
    "from src.data_preprocessing import load_data, clean_data\n",
    "\n",
    "# Load data\n",
    "df = load_data('../data/diabetic_data.csv')\n",
    "df_clean, preprocessor = clean_data(df)\n",
    "\n",
    "# Display basic info\n",
    "print(f\"Dataset shape: {df_clean.shape}\")\n",
    "print(f\"Readmission rate: {df_clean['readmitted'].mean():.2%}\")"
   ]
  },
  {
   "cell_type": "code",
   "execution_count": null,
   "metadata": {
    "cellUniqueIdByVincent": "c960c"
   },
   "outputs": [],
   "source": [
    "# Readmission distribution\n",
    "plt.figure(figsize=(8, 5))\n",
    "sns.countplot(x='readmitted', data=df_clean)\n",
    "plt.title('Readmission Distribution')\n",
    "plt.xlabel('Readmitted within 30 days')\n",
    "plt.ylabel('Count')\n",
    "plt.show()"
   ]
  },
  {
   "cell_type": "code",
   "execution_count": null,
   "metadata": {
    "cellUniqueIdByVincent": "b75be"
   },
   "outputs": [],
   "source": [
    "# Age vs Readmission\n",
    "plt.figure(figsize=(10, 6))\n",
    "sns.boxplot(x='readmitted', y='age', data=df_clean)\n",
    "plt.title('Age vs Readmission')\n",
    "plt.xlabel('Readmitted within 30 days')\n",
    "plt.ylabel('Age')\n",
    "plt.show()"
   ]
  },
  {
   "cell_type": "code",
   "execution_count": null,
   "metadata": {
    "cellUniqueIdByVincent": "a2b03"
   },
   "outputs": [],
   "source": [
    "# Time in hospital vs Readmission\n",
    "plt.figure(figsize=(10, 6))\n",
    "sns.boxplot(x='readmitted', y='time_in_hospital', data=df_clean)\n",
    "plt.title('Time in Hospital vs Readmission')\n",
    "plt.xlabel('Readmitted within 30 days')\n",
    "plt.ylabel('Days in Hospital')\n",
    "plt.show()"
   ]
  },
  {
   "cell_type": "code",
   "execution_count": null,
   "metadata": {
    "cellUniqueIdByVincent": "7d569"
   },
   "outputs": [],
   "source": [
    "# Correlation matrix\n",
    "plt.figure(figsize=(12, 10))\n",
    "numeric_cols = df_clean.select_dtypes(include=['int64', 'float64']).columns\n",
    "corr_matrix = df_clean[numeric_cols].corr()\n",
    "sns.heatmap(corr_matrix, annot=False, cmap='coolwarm')\n",
    "plt.title('Feature Correlation Matrix')\n",
    "plt.show()"
   ]
  }
 ],
 "metadata": {
  "vincent": {
   "sessionId": "a5d8dc3eac45682739e164fd_2025-08-31T08-32-43-117Z"
  }
 },
 "nbformat": 4,
 "nbformat_minor": 4
}
